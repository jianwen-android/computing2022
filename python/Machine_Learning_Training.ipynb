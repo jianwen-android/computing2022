{
  "nbformat": 4,
  "nbformat_minor": 0,
  "metadata": {
    "colab": {
      "name": "Cripple Uncrippler.py",
      "provenance": [],
      "collapsed_sections": []
    },
    "kernelspec": {
      "name": "python3",
      "display_name": "Python 3"
    },
    "language_info": {
      "name": "python"
    }
  },
  "cells": [
    {
      "cell_type": "markdown",
      "source": [
        "# Importing Libraries"
      ],
      "metadata": {
        "id": "Xh9pQdzNbycY"
      }
    },
    {
      "cell_type": "code",
      "source": [
        "# Importing the import-ant libraries\n",
        "import pandas as pd\n",
        "from sklearn.model_selection import train_test_split\n",
        "from tensorflow.keras.models import Sequential, load_model\n",
        "from tensorflow.keras.layers import Dense\n",
        "from sklearn.metrics import accuracy_score\n",
        "import tensorflow as tf\n",
        "import csv\n",
        "import numpy as np\n",
        "from google.colab import auth\n",
        "import gspread\n",
        "from oauth2client.client import GoogleCredentials\n"
      ],
      "metadata": {
        "id": "2Vz_oxeQWOMK"
      },
      "execution_count": 15,
      "outputs": []
    },
    {
      "cell_type": "markdown",
      "source": [
        "# Dealing With Spreadsheets"
      ],
      "metadata": {
        "id": "qbPcXzIPb4uR"
      }
    },
    {
      "cell_type": "code",
      "source": [
        "# Auth to allow access to the spread sheet\n",
        "auth.authenticate_user()\n",
        "\n",
        "gc = gspread.authorize(GoogleCredentials.get_application_default())"
      ],
      "metadata": {
        "id": "eCEiN_o273C_"
      },
      "execution_count": 16,
      "outputs": []
    },
    {
      "cell_type": "code",
      "source": [
        "# Opening the spreadsheet and downloading as CSV\n",
        "worksheet = gc.open(\"Spoof Data\").worksheet('Sheet5')\n",
        "\n",
        "rows = worksheet.get_all_values()\n",
        "\n",
        "pd.DataFrame.from_records(rows).to_csv(\"data.csv\",index=False,header=False)"
      ],
      "metadata": {
        "id": "nzDA1gSPXN4V"
      },
      "execution_count": 32,
      "outputs": []
    },
    {
      "cell_type": "markdown",
      "source": [
        "# Preprocessing Data"
      ],
      "metadata": {
        "id": "3mOz9mZmcG2d"
      }
    },
    {
      "cell_type": "code",
      "source": [
        "# Reading the CSV\n",
        "df = pd.read_csv(\"data.csv\")"
      ],
      "metadata": {
        "id": "akyYHIpM9-LG"
      },
      "execution_count": 33,
      "outputs": []
    },
    {
      "cell_type": "code",
      "source": [
        "# Preprocessing data\n",
        "X = pd.get_dummies(df.drop([\"Letter\"],axis=1)) # Remove letter as that outcome\n",
        "\n",
        "# List of the alphabets in order 👍🏻\n",
        "# alphabet = [\"A\",\"B\",\"C\",\"D\",\"E\",\"F\",\"G\",\"H\",\"I\",\"J\",\"K\",\"L\",\"M\",\"N\",\"O\",\"P\",\"Q\",\n",
        "#            \"R\",\"S\",\"T\",\"U\",\"V\",\"W\",\"X\",\"Y\",\"Z\"]\n",
        "letters = [\"A\",\"B\",\"C\",\"D\",\"E\",\"F\",\"G\",\"H\",\"I\",\"K\",\"L\",\"M\",\"N\",\"O\",\"P\",\"Q\",\n",
        "            \"S\",\"T\",\"U\",\"W\",\"X\",\"Y\"]\n",
        "\n",
        "Y = df[\"Letter\"].apply(lambda x: letters.index(x)) # Mapping ints to the letters\n",
        "print(Y)\n",
        "print(X)"
      ],
      "metadata": {
        "id": "S8u-WWjG8E0A",
        "colab": {
          "base_uri": "https://localhost:8080/"
        },
        "outputId": "9bbcede8-ce85-4a28-92c9-9f898a34157c"
      },
      "execution_count": 34,
      "outputs": [
        {
          "output_type": "stream",
          "name": "stdout",
          "text": [
            "0        0\n",
            "1        0\n",
            "2        0\n",
            "3        0\n",
            "4        0\n",
            "        ..\n",
            "1095    21\n",
            "1096    21\n",
            "1097    21\n",
            "1098    21\n",
            "1099    21\n",
            "Name: Letter, Length: 1100, dtype: int64\n",
            "         Pinky      Ring    Middle     Index     Thumb\n",
            "0     0.899785  0.864742  0.845010  0.960488  0.195136\n",
            "1     0.961064  0.990950  0.852364  0.822135  0.156835\n",
            "2     0.982067  0.813264  0.867312  0.857287  0.171330\n",
            "3     0.828814  0.928809  0.935763  0.978742  0.246543\n",
            "4     0.897464  0.901527  0.896102  0.880796  0.180406\n",
            "...        ...       ...       ...       ...       ...\n",
            "1095  0.271616  0.601854  0.960353  0.964851  0.157433\n",
            "1096  0.306891  0.615226  0.950689  0.970468  0.195694\n",
            "1097  0.141996  0.604050  0.980890  0.948656  0.060170\n",
            "1098  0.295461  0.580406  0.942298  0.925024  0.201908\n",
            "1099  0.235419  0.526062  0.928020  0.915859  0.199592\n",
            "\n",
            "[1100 rows x 5 columns]\n"
          ]
        }
      ]
    },
    {
      "cell_type": "markdown",
      "source": [
        "# Getting Model"
      ],
      "metadata": {
        "id": "afuPiTItcMAp"
      }
    },
    {
      "cell_type": "code",
      "source": [
        "X_train,X_test,Y_train,Y_test = train_test_split(X,Y, test_size=0.3)"
      ],
      "metadata": {
        "id": "5P0jcjXXAWMG"
      },
      "execution_count": 35,
      "outputs": []
    },
    {
      "cell_type": "code",
      "source": [
        "model = tf.keras.models.Sequential([\n",
        "                                    tf.keras.layers.Dense(5, activation=\"relu\"),\n",
        "                                    tf.keras.layers.Dense(64, activation=\"relu\"),\n",
        "                                    tf.keras.layers.Dense(32, activation=\"relu\"),\n",
        "                                    tf.keras.layers.Dense(len(letters), activation=\"softmax\")\n",
        "])"
      ],
      "metadata": {
        "id": "nhknvgNhtCh7"
      },
      "execution_count": 36,
      "outputs": []
    },
    {
      "cell_type": "code",
      "source": [
        "model.compile(optimizer='adam',\n",
        "              loss='sparse_categorical_crossentropy',\n",
        "              metrics=['accuracy'])\n"
      ],
      "metadata": {
        "id": "Pe0_6QK4thIf"
      },
      "execution_count": 37,
      "outputs": []
    },
    {
      "cell_type": "markdown",
      "source": [
        "# Training Model"
      ],
      "metadata": {
        "id": "A_ddBR27cRJX"
      }
    },
    {
      "cell_type": "code",
      "source": [
        "model.fit(X_train, Y_train, epochs=200)"
      ],
      "metadata": {
        "id": "LJcurL2XtjM-",
        "colab": {
          "base_uri": "https://localhost:8080/"
        },
        "outputId": "fabf1c19-43c1-48be-b15d-817299eb32c6"
      },
      "execution_count": 38,
      "outputs": [
        {
          "output_type": "stream",
          "name": "stdout",
          "text": [
            "Epoch 1/200\n",
            "25/25 [==============================] - 1s 2ms/step - loss: 3.0817 - accuracy: 0.0429\n",
            "Epoch 2/200\n",
            "25/25 [==============================] - 0s 2ms/step - loss: 3.0534 - accuracy: 0.1182\n",
            "Epoch 3/200\n",
            "25/25 [==============================] - 0s 2ms/step - loss: 3.0105 - accuracy: 0.1351\n",
            "Epoch 4/200\n",
            "25/25 [==============================] - 0s 2ms/step - loss: 2.9364 - accuracy: 0.1338\n",
            "Epoch 5/200\n",
            "25/25 [==============================] - 0s 2ms/step - loss: 2.8147 - accuracy: 0.1610\n",
            "Epoch 6/200\n",
            "25/25 [==============================] - 0s 2ms/step - loss: 2.6380 - accuracy: 0.1987\n",
            "Epoch 7/200\n",
            "25/25 [==============================] - 0s 2ms/step - loss: 2.4452 - accuracy: 0.2286\n",
            "Epoch 8/200\n",
            "25/25 [==============================] - 0s 2ms/step - loss: 2.2593 - accuracy: 0.2688\n",
            "Epoch 9/200\n",
            "25/25 [==============================] - 0s 2ms/step - loss: 2.0902 - accuracy: 0.2766\n",
            "Epoch 10/200\n",
            "25/25 [==============================] - 0s 2ms/step - loss: 1.9399 - accuracy: 0.3714\n",
            "Epoch 11/200\n",
            "25/25 [==============================] - 0s 2ms/step - loss: 1.7992 - accuracy: 0.4104\n",
            "Epoch 12/200\n",
            "25/25 [==============================] - 0s 2ms/step - loss: 1.6761 - accuracy: 0.4792\n",
            "Epoch 13/200\n",
            "25/25 [==============================] - 0s 1ms/step - loss: 1.5742 - accuracy: 0.4675\n",
            "Epoch 14/200\n",
            "25/25 [==============================] - 0s 2ms/step - loss: 1.4702 - accuracy: 0.5182\n",
            "Epoch 15/200\n",
            "25/25 [==============================] - 0s 2ms/step - loss: 1.3856 - accuracy: 0.5312\n",
            "Epoch 16/200\n",
            "25/25 [==============================] - 0s 2ms/step - loss: 1.3109 - accuracy: 0.5688\n",
            "Epoch 17/200\n",
            "25/25 [==============================] - 0s 2ms/step - loss: 1.2522 - accuracy: 0.5727\n",
            "Epoch 18/200\n",
            "25/25 [==============================] - 0s 2ms/step - loss: 1.2022 - accuracy: 0.5805\n",
            "Epoch 19/200\n",
            "25/25 [==============================] - 0s 2ms/step - loss: 1.1417 - accuracy: 0.6221\n",
            "Epoch 20/200\n",
            "25/25 [==============================] - 0s 2ms/step - loss: 1.0985 - accuracy: 0.6013\n",
            "Epoch 21/200\n",
            "25/25 [==============================] - 0s 2ms/step - loss: 1.0497 - accuracy: 0.6104\n",
            "Epoch 22/200\n",
            "25/25 [==============================] - 0s 1ms/step - loss: 1.0161 - accuracy: 0.6545\n",
            "Epoch 23/200\n",
            "25/25 [==============================] - 0s 2ms/step - loss: 0.9820 - accuracy: 0.6623\n",
            "Epoch 24/200\n",
            "25/25 [==============================] - 0s 2ms/step - loss: 0.9357 - accuracy: 0.6766\n",
            "Epoch 25/200\n",
            "25/25 [==============================] - 0s 2ms/step - loss: 0.9002 - accuracy: 0.6753\n",
            "Epoch 26/200\n",
            "25/25 [==============================] - 0s 2ms/step - loss: 0.8773 - accuracy: 0.6870\n",
            "Epoch 27/200\n",
            "25/25 [==============================] - 0s 2ms/step - loss: 0.8368 - accuracy: 0.7169\n",
            "Epoch 28/200\n",
            "25/25 [==============================] - 0s 2ms/step - loss: 0.8186 - accuracy: 0.6818\n",
            "Epoch 29/200\n",
            "25/25 [==============================] - 0s 2ms/step - loss: 0.7986 - accuracy: 0.7039\n",
            "Epoch 30/200\n",
            "25/25 [==============================] - 0s 2ms/step - loss: 0.7741 - accuracy: 0.7260\n",
            "Epoch 31/200\n",
            "25/25 [==============================] - 0s 2ms/step - loss: 0.7485 - accuracy: 0.7416\n",
            "Epoch 32/200\n",
            "25/25 [==============================] - 0s 2ms/step - loss: 0.7306 - accuracy: 0.7247\n",
            "Epoch 33/200\n",
            "25/25 [==============================] - 0s 2ms/step - loss: 0.7146 - accuracy: 0.7377\n",
            "Epoch 34/200\n",
            "25/25 [==============================] - 0s 2ms/step - loss: 0.6935 - accuracy: 0.7377\n",
            "Epoch 35/200\n",
            "25/25 [==============================] - 0s 2ms/step - loss: 0.6937 - accuracy: 0.7468\n",
            "Epoch 36/200\n",
            "25/25 [==============================] - 0s 2ms/step - loss: 0.6798 - accuracy: 0.7442\n",
            "Epoch 37/200\n",
            "25/25 [==============================] - 0s 2ms/step - loss: 0.6696 - accuracy: 0.7208\n",
            "Epoch 38/200\n",
            "25/25 [==============================] - 0s 1ms/step - loss: 0.6433 - accuracy: 0.7675\n",
            "Epoch 39/200\n",
            "25/25 [==============================] - 0s 2ms/step - loss: 0.6415 - accuracy: 0.7455\n",
            "Epoch 40/200\n",
            "25/25 [==============================] - 0s 2ms/step - loss: 0.6157 - accuracy: 0.7818\n",
            "Epoch 41/200\n",
            "25/25 [==============================] - 0s 2ms/step - loss: 0.6076 - accuracy: 0.7662\n",
            "Epoch 42/200\n",
            "25/25 [==============================] - 0s 2ms/step - loss: 0.6066 - accuracy: 0.7584\n",
            "Epoch 43/200\n",
            "25/25 [==============================] - 0s 2ms/step - loss: 0.5901 - accuracy: 0.7818\n",
            "Epoch 44/200\n",
            "25/25 [==============================] - 0s 2ms/step - loss: 0.5860 - accuracy: 0.7597\n",
            "Epoch 45/200\n",
            "25/25 [==============================] - 0s 2ms/step - loss: 0.5865 - accuracy: 0.7753\n",
            "Epoch 46/200\n",
            "25/25 [==============================] - 0s 2ms/step - loss: 0.5786 - accuracy: 0.7494\n",
            "Epoch 47/200\n",
            "25/25 [==============================] - 0s 2ms/step - loss: 0.5663 - accuracy: 0.7870\n",
            "Epoch 48/200\n",
            "25/25 [==============================] - 0s 2ms/step - loss: 0.5660 - accuracy: 0.7688\n",
            "Epoch 49/200\n",
            "25/25 [==============================] - 0s 2ms/step - loss: 0.5506 - accuracy: 0.7883\n",
            "Epoch 50/200\n",
            "25/25 [==============================] - 0s 2ms/step - loss: 0.5417 - accuracy: 0.7922\n",
            "Epoch 51/200\n",
            "25/25 [==============================] - 0s 2ms/step - loss: 0.5424 - accuracy: 0.7844\n",
            "Epoch 52/200\n",
            "25/25 [==============================] - 0s 2ms/step - loss: 0.5338 - accuracy: 0.7974\n",
            "Epoch 53/200\n",
            "25/25 [==============================] - 0s 2ms/step - loss: 0.5224 - accuracy: 0.7948\n",
            "Epoch 54/200\n",
            "25/25 [==============================] - 0s 2ms/step - loss: 0.5203 - accuracy: 0.7883\n",
            "Epoch 55/200\n",
            "25/25 [==============================] - 0s 1ms/step - loss: 0.5216 - accuracy: 0.7883\n",
            "Epoch 56/200\n",
            "25/25 [==============================] - 0s 2ms/step - loss: 0.5104 - accuracy: 0.8000\n",
            "Epoch 57/200\n",
            "25/25 [==============================] - 0s 2ms/step - loss: 0.5065 - accuracy: 0.8013\n",
            "Epoch 58/200\n",
            "25/25 [==============================] - 0s 2ms/step - loss: 0.5118 - accuracy: 0.7857\n",
            "Epoch 59/200\n",
            "25/25 [==============================] - 0s 2ms/step - loss: 0.4984 - accuracy: 0.7987\n",
            "Epoch 60/200\n",
            "25/25 [==============================] - 0s 2ms/step - loss: 0.4972 - accuracy: 0.8078\n",
            "Epoch 61/200\n",
            "25/25 [==============================] - 0s 2ms/step - loss: 0.4806 - accuracy: 0.8208\n",
            "Epoch 62/200\n",
            "25/25 [==============================] - 0s 2ms/step - loss: 0.4819 - accuracy: 0.8026\n",
            "Epoch 63/200\n",
            "25/25 [==============================] - 0s 2ms/step - loss: 0.4781 - accuracy: 0.8169\n",
            "Epoch 64/200\n",
            "25/25 [==============================] - 0s 2ms/step - loss: 0.4874 - accuracy: 0.8013\n",
            "Epoch 65/200\n",
            "25/25 [==============================] - 0s 2ms/step - loss: 0.4891 - accuracy: 0.7779\n",
            "Epoch 66/200\n",
            "25/25 [==============================] - 0s 2ms/step - loss: 0.4758 - accuracy: 0.8169\n",
            "Epoch 67/200\n",
            "25/25 [==============================] - 0s 2ms/step - loss: 0.4609 - accuracy: 0.8091\n",
            "Epoch 68/200\n",
            "25/25 [==============================] - 0s 2ms/step - loss: 0.4694 - accuracy: 0.8000\n",
            "Epoch 69/200\n",
            "25/25 [==============================] - 0s 2ms/step - loss: 0.4643 - accuracy: 0.8091\n",
            "Epoch 70/200\n",
            "25/25 [==============================] - 0s 2ms/step - loss: 0.4586 - accuracy: 0.8013\n",
            "Epoch 71/200\n",
            "25/25 [==============================] - 0s 1ms/step - loss: 0.4588 - accuracy: 0.8169\n",
            "Epoch 72/200\n",
            "25/25 [==============================] - 0s 2ms/step - loss: 0.4587 - accuracy: 0.8182\n",
            "Epoch 73/200\n",
            "25/25 [==============================] - 0s 2ms/step - loss: 0.4428 - accuracy: 0.8052\n",
            "Epoch 74/200\n",
            "25/25 [==============================] - 0s 2ms/step - loss: 0.4444 - accuracy: 0.8260\n",
            "Epoch 75/200\n",
            "25/25 [==============================] - 0s 1ms/step - loss: 0.4639 - accuracy: 0.7948\n",
            "Epoch 76/200\n",
            "25/25 [==============================] - 0s 2ms/step - loss: 0.4373 - accuracy: 0.8247\n",
            "Epoch 77/200\n",
            "25/25 [==============================] - 0s 2ms/step - loss: 0.4551 - accuracy: 0.8026\n",
            "Epoch 78/200\n",
            "25/25 [==============================] - 0s 2ms/step - loss: 0.4350 - accuracy: 0.8169\n",
            "Epoch 79/200\n",
            "25/25 [==============================] - 0s 2ms/step - loss: 0.4531 - accuracy: 0.8104\n",
            "Epoch 80/200\n",
            "25/25 [==============================] - 0s 2ms/step - loss: 0.4255 - accuracy: 0.8104\n",
            "Epoch 81/200\n",
            "25/25 [==============================] - 0s 2ms/step - loss: 0.4270 - accuracy: 0.8260\n",
            "Epoch 82/200\n",
            "25/25 [==============================] - 0s 2ms/step - loss: 0.4269 - accuracy: 0.8182\n",
            "Epoch 83/200\n",
            "25/25 [==============================] - 0s 2ms/step - loss: 0.4184 - accuracy: 0.8312\n",
            "Epoch 84/200\n",
            "25/25 [==============================] - 0s 2ms/step - loss: 0.4224 - accuracy: 0.8234\n",
            "Epoch 85/200\n",
            "25/25 [==============================] - 0s 2ms/step - loss: 0.4144 - accuracy: 0.8260\n",
            "Epoch 86/200\n",
            "25/25 [==============================] - 0s 1ms/step - loss: 0.4128 - accuracy: 0.8234\n",
            "Epoch 87/200\n",
            "25/25 [==============================] - 0s 2ms/step - loss: 0.4032 - accuracy: 0.8390\n",
            "Epoch 88/200\n",
            "25/25 [==============================] - 0s 2ms/step - loss: 0.4038 - accuracy: 0.8351\n",
            "Epoch 89/200\n",
            "25/25 [==============================] - 0s 2ms/step - loss: 0.4414 - accuracy: 0.8143\n",
            "Epoch 90/200\n",
            "25/25 [==============================] - 0s 2ms/step - loss: 0.4027 - accuracy: 0.8299\n",
            "Epoch 91/200\n",
            "25/25 [==============================] - 0s 2ms/step - loss: 0.4084 - accuracy: 0.8208\n",
            "Epoch 92/200\n",
            "25/25 [==============================] - 0s 2ms/step - loss: 0.4078 - accuracy: 0.8143\n",
            "Epoch 93/200\n",
            "25/25 [==============================] - 0s 2ms/step - loss: 0.4022 - accuracy: 0.8208\n",
            "Epoch 94/200\n",
            "25/25 [==============================] - 0s 2ms/step - loss: 0.4015 - accuracy: 0.8247\n",
            "Epoch 95/200\n",
            "25/25 [==============================] - 0s 2ms/step - loss: 0.3922 - accuracy: 0.8325\n",
            "Epoch 96/200\n",
            "25/25 [==============================] - 0s 2ms/step - loss: 0.4022 - accuracy: 0.8260\n",
            "Epoch 97/200\n",
            "25/25 [==============================] - 0s 2ms/step - loss: 0.3942 - accuracy: 0.8130\n",
            "Epoch 98/200\n",
            "25/25 [==============================] - 0s 2ms/step - loss: 0.3947 - accuracy: 0.8286\n",
            "Epoch 99/200\n",
            "25/25 [==============================] - 0s 2ms/step - loss: 0.4634 - accuracy: 0.8052\n",
            "Epoch 100/200\n",
            "25/25 [==============================] - 0s 2ms/step - loss: 0.4029 - accuracy: 0.8221\n",
            "Epoch 101/200\n",
            "25/25 [==============================] - 0s 2ms/step - loss: 0.3950 - accuracy: 0.8260\n",
            "Epoch 102/200\n",
            "25/25 [==============================] - 0s 2ms/step - loss: 0.3872 - accuracy: 0.8273\n",
            "Epoch 103/200\n",
            "25/25 [==============================] - 0s 1ms/step - loss: 0.3910 - accuracy: 0.8273\n",
            "Epoch 104/200\n",
            "25/25 [==============================] - 0s 1ms/step - loss: 0.3848 - accuracy: 0.8221\n",
            "Epoch 105/200\n",
            "25/25 [==============================] - 0s 2ms/step - loss: 0.3838 - accuracy: 0.8351\n",
            "Epoch 106/200\n",
            "25/25 [==============================] - 0s 2ms/step - loss: 0.3712 - accuracy: 0.8416\n",
            "Epoch 107/200\n",
            "25/25 [==============================] - 0s 2ms/step - loss: 0.3765 - accuracy: 0.8325\n",
            "Epoch 108/200\n",
            "25/25 [==============================] - 0s 2ms/step - loss: 0.3746 - accuracy: 0.8338\n",
            "Epoch 109/200\n",
            "25/25 [==============================] - 0s 2ms/step - loss: 0.3757 - accuracy: 0.8351\n",
            "Epoch 110/200\n",
            "25/25 [==============================] - 0s 2ms/step - loss: 0.3802 - accuracy: 0.8299\n",
            "Epoch 111/200\n",
            "25/25 [==============================] - 0s 2ms/step - loss: 0.3736 - accuracy: 0.8351\n",
            "Epoch 112/200\n",
            "25/25 [==============================] - 0s 2ms/step - loss: 0.3670 - accuracy: 0.8351\n",
            "Epoch 113/200\n",
            "25/25 [==============================] - 0s 2ms/step - loss: 0.3691 - accuracy: 0.8429\n",
            "Epoch 114/200\n",
            "25/25 [==============================] - 0s 2ms/step - loss: 0.3667 - accuracy: 0.8351\n",
            "Epoch 115/200\n",
            "25/25 [==============================] - 0s 2ms/step - loss: 0.3870 - accuracy: 0.8208\n",
            "Epoch 116/200\n",
            "25/25 [==============================] - 0s 2ms/step - loss: 0.3579 - accuracy: 0.8377\n",
            "Epoch 117/200\n",
            "25/25 [==============================] - 0s 2ms/step - loss: 0.3639 - accuracy: 0.8299\n",
            "Epoch 118/200\n",
            "25/25 [==============================] - 0s 2ms/step - loss: 0.3667 - accuracy: 0.8364\n",
            "Epoch 119/200\n",
            "25/25 [==============================] - 0s 2ms/step - loss: 0.4081 - accuracy: 0.8130\n",
            "Epoch 120/200\n",
            "25/25 [==============================] - 0s 2ms/step - loss: 0.3751 - accuracy: 0.8338\n",
            "Epoch 121/200\n",
            "25/25 [==============================] - 0s 2ms/step - loss: 0.3849 - accuracy: 0.8234\n",
            "Epoch 122/200\n",
            "25/25 [==============================] - 0s 2ms/step - loss: 0.4328 - accuracy: 0.8299\n",
            "Epoch 123/200\n",
            "25/25 [==============================] - 0s 2ms/step - loss: 0.3738 - accuracy: 0.8221\n",
            "Epoch 124/200\n",
            "25/25 [==============================] - 0s 2ms/step - loss: 0.3499 - accuracy: 0.8390\n",
            "Epoch 125/200\n",
            "25/25 [==============================] - 0s 2ms/step - loss: 0.3540 - accuracy: 0.8506\n",
            "Epoch 126/200\n",
            "25/25 [==============================] - 0s 2ms/step - loss: 0.3534 - accuracy: 0.8377\n",
            "Epoch 127/200\n",
            "25/25 [==============================] - 0s 2ms/step - loss: 0.3716 - accuracy: 0.8325\n",
            "Epoch 128/200\n",
            "25/25 [==============================] - 0s 2ms/step - loss: 0.3604 - accuracy: 0.8312\n",
            "Epoch 129/200\n",
            "25/25 [==============================] - 0s 2ms/step - loss: 0.3984 - accuracy: 0.8390\n",
            "Epoch 130/200\n",
            "25/25 [==============================] - 0s 2ms/step - loss: 0.3653 - accuracy: 0.8325\n",
            "Epoch 131/200\n",
            "25/25 [==============================] - 0s 2ms/step - loss: 0.3550 - accuracy: 0.8364\n",
            "Epoch 132/200\n",
            "25/25 [==============================] - 0s 2ms/step - loss: 0.3905 - accuracy: 0.8117\n",
            "Epoch 133/200\n",
            "25/25 [==============================] - 0s 2ms/step - loss: 0.3571 - accuracy: 0.8377\n",
            "Epoch 134/200\n",
            "25/25 [==============================] - 0s 2ms/step - loss: 0.3570 - accuracy: 0.8351\n",
            "Epoch 135/200\n",
            "25/25 [==============================] - 0s 2ms/step - loss: 0.3499 - accuracy: 0.8442\n",
            "Epoch 136/200\n",
            "25/25 [==============================] - 0s 2ms/step - loss: 0.3471 - accuracy: 0.8468\n",
            "Epoch 137/200\n",
            "25/25 [==============================] - 0s 2ms/step - loss: 0.3450 - accuracy: 0.8403\n",
            "Epoch 138/200\n",
            "25/25 [==============================] - 0s 2ms/step - loss: 0.3642 - accuracy: 0.8442\n",
            "Epoch 139/200\n",
            "25/25 [==============================] - 0s 2ms/step - loss: 0.3814 - accuracy: 0.8156\n",
            "Epoch 140/200\n",
            "25/25 [==============================] - 0s 2ms/step - loss: 0.3492 - accuracy: 0.8494\n",
            "Epoch 141/200\n",
            "25/25 [==============================] - 0s 2ms/step - loss: 0.3490 - accuracy: 0.8338\n",
            "Epoch 142/200\n",
            "25/25 [==============================] - 0s 2ms/step - loss: 0.3462 - accuracy: 0.8364\n",
            "Epoch 143/200\n",
            "25/25 [==============================] - 0s 1ms/step - loss: 0.3402 - accuracy: 0.8468\n",
            "Epoch 144/200\n",
            "25/25 [==============================] - 0s 2ms/step - loss: 0.3459 - accuracy: 0.8325\n",
            "Epoch 145/200\n",
            "25/25 [==============================] - 0s 2ms/step - loss: 0.3578 - accuracy: 0.8338\n",
            "Epoch 146/200\n",
            "25/25 [==============================] - 0s 2ms/step - loss: 0.3540 - accuracy: 0.8312\n",
            "Epoch 147/200\n",
            "25/25 [==============================] - 0s 2ms/step - loss: 0.3510 - accuracy: 0.8390\n",
            "Epoch 148/200\n",
            "25/25 [==============================] - 0s 2ms/step - loss: 0.3409 - accuracy: 0.8416\n",
            "Epoch 149/200\n",
            "25/25 [==============================] - 0s 2ms/step - loss: 0.3597 - accuracy: 0.8416\n",
            "Epoch 150/200\n",
            "25/25 [==============================] - 0s 3ms/step - loss: 0.3521 - accuracy: 0.8442\n",
            "Epoch 151/200\n",
            "25/25 [==============================] - 0s 2ms/step - loss: 0.3391 - accuracy: 0.8429\n",
            "Epoch 152/200\n",
            "25/25 [==============================] - 0s 2ms/step - loss: 0.3370 - accuracy: 0.8649\n",
            "Epoch 153/200\n",
            "25/25 [==============================] - 0s 2ms/step - loss: 0.3774 - accuracy: 0.8299\n",
            "Epoch 154/200\n",
            "25/25 [==============================] - 0s 2ms/step - loss: 0.3309 - accuracy: 0.8455\n",
            "Epoch 155/200\n",
            "25/25 [==============================] - 0s 2ms/step - loss: 0.3992 - accuracy: 0.8195\n",
            "Epoch 156/200\n",
            "25/25 [==============================] - 0s 2ms/step - loss: 0.3437 - accuracy: 0.8351\n",
            "Epoch 157/200\n",
            "25/25 [==============================] - 0s 2ms/step - loss: 0.3445 - accuracy: 0.8494\n",
            "Epoch 158/200\n",
            "25/25 [==============================] - 0s 2ms/step - loss: 0.3329 - accuracy: 0.8558\n",
            "Epoch 159/200\n",
            "25/25 [==============================] - 0s 2ms/step - loss: 0.3277 - accuracy: 0.8468\n",
            "Epoch 160/200\n",
            "25/25 [==============================] - 0s 2ms/step - loss: 0.3537 - accuracy: 0.8338\n",
            "Epoch 161/200\n",
            "25/25 [==============================] - 0s 2ms/step - loss: 0.3779 - accuracy: 0.8299\n",
            "Epoch 162/200\n",
            "25/25 [==============================] - 0s 2ms/step - loss: 0.3432 - accuracy: 0.8455\n",
            "Epoch 163/200\n",
            "25/25 [==============================] - 0s 2ms/step - loss: 0.3613 - accuracy: 0.8286\n",
            "Epoch 164/200\n",
            "25/25 [==============================] - 0s 2ms/step - loss: 0.3265 - accuracy: 0.8468\n",
            "Epoch 165/200\n",
            "25/25 [==============================] - 0s 2ms/step - loss: 0.3515 - accuracy: 0.8312\n",
            "Epoch 166/200\n",
            "25/25 [==============================] - 0s 2ms/step - loss: 0.3301 - accuracy: 0.8416\n",
            "Epoch 167/200\n",
            "25/25 [==============================] - 0s 2ms/step - loss: 0.3307 - accuracy: 0.8481\n",
            "Epoch 168/200\n",
            "25/25 [==============================] - 0s 2ms/step - loss: 0.3305 - accuracy: 0.8455\n",
            "Epoch 169/200\n",
            "25/25 [==============================] - 0s 2ms/step - loss: 0.3243 - accuracy: 0.8532\n",
            "Epoch 170/200\n",
            "25/25 [==============================] - 0s 2ms/step - loss: 0.3443 - accuracy: 0.8481\n",
            "Epoch 171/200\n",
            "25/25 [==============================] - 0s 2ms/step - loss: 0.3255 - accuracy: 0.8519\n",
            "Epoch 172/200\n",
            "25/25 [==============================] - 0s 2ms/step - loss: 0.3414 - accuracy: 0.8403\n",
            "Epoch 173/200\n",
            "25/25 [==============================] - 0s 1ms/step - loss: 0.3230 - accuracy: 0.8532\n",
            "Epoch 174/200\n",
            "25/25 [==============================] - 0s 2ms/step - loss: 0.3342 - accuracy: 0.8403\n",
            "Epoch 175/200\n",
            "25/25 [==============================] - 0s 2ms/step - loss: 0.3237 - accuracy: 0.8571\n",
            "Epoch 176/200\n",
            "25/25 [==============================] - 0s 2ms/step - loss: 0.3383 - accuracy: 0.8416\n",
            "Epoch 177/200\n",
            "25/25 [==============================] - 0s 2ms/step - loss: 0.3393 - accuracy: 0.8429\n",
            "Epoch 178/200\n",
            "25/25 [==============================] - 0s 2ms/step - loss: 0.3289 - accuracy: 0.8429\n",
            "Epoch 179/200\n",
            "25/25 [==============================] - 0s 2ms/step - loss: 0.3669 - accuracy: 0.8325\n",
            "Epoch 180/200\n",
            "25/25 [==============================] - 0s 2ms/step - loss: 0.3278 - accuracy: 0.8481\n",
            "Epoch 181/200\n",
            "25/25 [==============================] - 0s 2ms/step - loss: 0.3254 - accuracy: 0.8468\n",
            "Epoch 182/200\n",
            "25/25 [==============================] - 0s 2ms/step - loss: 0.3541 - accuracy: 0.8429\n",
            "Epoch 183/200\n",
            "25/25 [==============================] - 0s 2ms/step - loss: 0.3357 - accuracy: 0.8506\n",
            "Epoch 184/200\n",
            "25/25 [==============================] - 0s 2ms/step - loss: 0.3193 - accuracy: 0.8519\n",
            "Epoch 185/200\n",
            "25/25 [==============================] - 0s 2ms/step - loss: 0.3678 - accuracy: 0.8377\n",
            "Epoch 186/200\n",
            "25/25 [==============================] - 0s 2ms/step - loss: 0.3139 - accuracy: 0.8506\n",
            "Epoch 187/200\n",
            "25/25 [==============================] - 0s 2ms/step - loss: 0.3203 - accuracy: 0.8481\n",
            "Epoch 188/200\n",
            "25/25 [==============================] - 0s 2ms/step - loss: 0.3175 - accuracy: 0.8468\n",
            "Epoch 189/200\n",
            "25/25 [==============================] - 0s 2ms/step - loss: 0.3142 - accuracy: 0.8584\n",
            "Epoch 190/200\n",
            "25/25 [==============================] - 0s 1ms/step - loss: 0.3206 - accuracy: 0.8675\n",
            "Epoch 191/200\n",
            "25/25 [==============================] - 0s 2ms/step - loss: 0.3287 - accuracy: 0.8455\n",
            "Epoch 192/200\n",
            "25/25 [==============================] - 0s 2ms/step - loss: 0.3222 - accuracy: 0.8545\n",
            "Epoch 193/200\n",
            "25/25 [==============================] - 0s 2ms/step - loss: 0.3262 - accuracy: 0.8481\n",
            "Epoch 194/200\n",
            "25/25 [==============================] - 0s 2ms/step - loss: 0.3348 - accuracy: 0.8494\n",
            "Epoch 195/200\n",
            "25/25 [==============================] - 0s 2ms/step - loss: 0.3195 - accuracy: 0.8455\n",
            "Epoch 196/200\n",
            "25/25 [==============================] - 0s 2ms/step - loss: 0.3168 - accuracy: 0.8494\n",
            "Epoch 197/200\n",
            "25/25 [==============================] - 0s 2ms/step - loss: 0.3227 - accuracy: 0.8545\n",
            "Epoch 198/200\n",
            "25/25 [==============================] - 0s 2ms/step - loss: 0.3257 - accuracy: 0.8416\n",
            "Epoch 199/200\n",
            "25/25 [==============================] - 0s 2ms/step - loss: 0.3189 - accuracy: 0.8532\n",
            "Epoch 200/200\n",
            "25/25 [==============================] - 0s 2ms/step - loss: 0.3136 - accuracy: 0.8701\n"
          ]
        },
        {
          "output_type": "execute_result",
          "data": {
            "text/plain": [
              "<keras.callbacks.History at 0x7f822fb338d0>"
            ]
          },
          "metadata": {},
          "execution_count": 38
        }
      ]
    },
    {
      "cell_type": "markdown",
      "source": [
        "# Testing Model"
      ],
      "metadata": {
        "id": "gwVZZEficWw3"
      }
    },
    {
      "cell_type": "code",
      "source": [
        "model.evaluate(X_test, Y_test)"
      ],
      "metadata": {
        "id": "DUoFlBzrGKC5",
        "colab": {
          "base_uri": "https://localhost:8080/"
        },
        "outputId": "7a932ffe-6676-4a11-d7df-831e2aeac7c3"
      },
      "execution_count": 39,
      "outputs": [
        {
          "output_type": "stream",
          "name": "stdout",
          "text": [
            "11/11 [==============================] - 0s 2ms/step - loss: 0.3327 - accuracy: 0.8424\n"
          ]
        },
        {
          "output_type": "execute_result",
          "data": {
            "text/plain": [
              "[0.3327272832393646, 0.842424213886261]"
            ]
          },
          "metadata": {},
          "execution_count": 39
        }
      ]
    },
    {
      "cell_type": "markdown",
      "source": [
        "# Saving Model\n"
      ],
      "metadata": {
        "id": "_ORFzuEdd4Fl"
      }
    },
    {
      "cell_type": "code",
      "source": [
        "model.save_weights('./weights/weights1')"
      ],
      "metadata": {
        "id": "QxH1pe2zd3pg"
      },
      "execution_count": 47,
      "outputs": []
    },
    {
      "cell_type": "markdown",
      "source": [
        "# Load and Test Model"
      ],
      "metadata": {
        "id": "IJNliBcveoF6"
      }
    },
    {
      "cell_type": "code",
      "source": [
        "model = tf.keras.models.Sequential([\n",
        "                                    tf.keras.layers.Dense(5, activation=\"relu\"),\n",
        "                                    tf.keras.layers.Dense(64, activation=\"relu\"),\n",
        "                                    tf.keras.layers.Dense(32, activation=\"relu\"),\n",
        "                                    tf.keras.layers.Dense(len(letters), activation=\"softmax\")\n",
        "])\n",
        "model.compile(optimizer='adam',\n",
        "              loss='sparse_categorical_crossentropy',\n",
        "              metrics=['accuracy'])\n",
        "model.load_weights('./weights/weights1')\n"
      ],
      "metadata": {
        "colab": {
          "base_uri": "https://localhost:8080/"
        },
        "id": "7I9uzEoGerHn",
        "outputId": "d1c9aaf9-3d34-44a1-d064-d250b4bb5ebd"
      },
      "execution_count": 41,
      "outputs": [
        {
          "output_type": "execute_result",
          "data": {
            "text/plain": [
              "<tensorflow.python.training.tracking.util.CheckpointLoadStatus at 0x7f822f9f9350>"
            ]
          },
          "metadata": {},
          "execution_count": 41
        }
      ]
    },
    {
      "cell_type": "markdown",
      "source": [
        "# Predicting the Model\n"
      ],
      "metadata": {
        "id": "5HPim4U1o7yh"
      }
    },
    {
      "cell_type": "code",
      "source": [
        "pWork = gc.open(\"Spoof Data\").worksheet('Sheet3')\n",
        "\n",
        "pRows = pWork.get_all_values()\n",
        "\n",
        "pd.DataFrame.from_records(pRows).to_csv(\"pData.csv\",index=False,header=False)\n",
        "\n",
        "pDf = pd.read_csv(\"pData.csv\")\n",
        "\n",
        "pX = pd.get_dummies(pDf.drop([\"Letter\"],axis=1))\n",
        "\n",
        "predictions = model.predict(pX)\n",
        "\n",
        "print(predictions)\n",
        "\n",
        "classes = np.argmax(predictions, axis = 1)\n",
        "print(classes)\n",
        "\n",
        "letters = [\"A\",\"B\",\"C\",\"D\",\"E\",\"F\",\"G\",\"H\",\"I\",\"K\",\"L\",\"M\",\"N\",\"O\",\"P\",\"Q\",\n",
        "           \"S\",\"T\",\"U\",\"W\",\"X\",\"Y\"]\n",
        "print(letters[classes[0]])\n",
        "\n"
      ],
      "metadata": {
        "colab": {
          "base_uri": "https://localhost:8080/"
        },
        "id": "ayp5SZAXo_bN",
        "outputId": "5c98defb-a8b5-4f78-86fe-504bad0cd95c"
      },
      "execution_count": 46,
      "outputs": [
        {
          "output_type": "stream",
          "name": "stdout",
          "text": [
            "[[2.7369201e-11 0.0000000e+00 2.9566844e-24 3.3884774e-06 6.5052062e-20\n",
            "  0.0000000e+00 1.6102745e-01 1.0203554e-21 0.0000000e+00 2.7549616e-12\n",
            "  8.3883429e-01 1.5755538e-21 5.4195311e-26 0.0000000e+00 6.8864603e-05\n",
            "  1.9569273e-09 6.0251686e-37 6.6029614e-05 1.2015676e-19 0.0000000e+00\n",
            "  1.9076561e-22 5.5424499e-17]]\n",
            "[10]\n",
            "L\n"
          ]
        }
      ]
    }
  ]
}